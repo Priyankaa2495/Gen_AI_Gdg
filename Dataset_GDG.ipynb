{
  "nbformat": 4,
  "nbformat_minor": 0,
  "metadata": {
    "colab": {
      "provenance": []
    },
    "kernelspec": {
      "name": "python3",
      "display_name": "Python 3"
    },
    "language_info": {
      "name": "python"
    }
  },
  "cells": [
    {
      "cell_type": "code",
      "execution_count": null,
      "metadata": {
        "colab": {
          "base_uri": "https://localhost:8080/",
          "height": 17
        },
        "id": "hgrh1J5rxSX5",
        "outputId": "2f927204-05b8-4f84-b866-48fa32d12fac"
      },
      "outputs": [
        {
          "output_type": "display_data",
          "data": {
            "text/plain": [
              "<IPython.core.display.Javascript object>"
            ],
            "application/javascript": [
              "\n",
              "    async function download(id, filename, size) {\n",
              "      if (!google.colab.kernel.accessAllowed) {\n",
              "        return;\n",
              "      }\n",
              "      const div = document.createElement('div');\n",
              "      const label = document.createElement('label');\n",
              "      label.textContent = `Downloading \"${filename}\": `;\n",
              "      div.appendChild(label);\n",
              "      const progress = document.createElement('progress');\n",
              "      progress.max = size;\n",
              "      div.appendChild(progress);\n",
              "      document.body.appendChild(div);\n",
              "\n",
              "      const buffers = [];\n",
              "      let downloaded = 0;\n",
              "\n",
              "      const channel = await google.colab.kernel.comms.open(id);\n",
              "      // Send a message to notify the kernel that we're ready.\n",
              "      channel.send({})\n",
              "\n",
              "      for await (const message of channel.messages) {\n",
              "        // Send a message to notify the kernel that we're ready.\n",
              "        channel.send({})\n",
              "        if (message.buffers) {\n",
              "          for (const buffer of message.buffers) {\n",
              "            buffers.push(buffer);\n",
              "            downloaded += buffer.byteLength;\n",
              "            progress.value = downloaded;\n",
              "          }\n",
              "        }\n",
              "      }\n",
              "      const blob = new Blob(buffers, {type: 'application/binary'});\n",
              "      const a = document.createElement('a');\n",
              "      a.href = window.URL.createObjectURL(blob);\n",
              "      a.download = filename;\n",
              "      div.appendChild(a);\n",
              "      a.click();\n",
              "      div.remove();\n",
              "    }\n",
              "  "
            ]
          },
          "metadata": {}
        },
        {
          "output_type": "display_data",
          "data": {
            "text/plain": [
              "<IPython.core.display.Javascript object>"
            ],
            "application/javascript": [
              "download(\"download_df6ca0ce-9ab5-4d83-97f7-5ec5ef6e078e\", \"outfile.json\", 3206616)"
            ]
          },
          "metadata": {}
        }
      ],
      "source": [
        "  import requests #importing the libraries needed\n",
        "  from bs4 import BeautifulSoup\n",
        "  import time\n",
        "  import json\n",
        "  import re\n",
        "  from google.colab import files\n",
        "\n",
        "\n",
        "\n",
        "  def scrape_poem(url):\n",
        "    response=requests.get(url)\n",
        "    poem_lines=[]\n",
        "    var={\"poem\":[]}\n",
        "    if response.status_code==200:\n",
        "      soup=BeautifulSoup(response.content,'lxml')\n",
        "      poem=soup.find('div',class_=\"field field--body\")\n",
        "      if not poem:\n",
        "        return var\n",
        "      pom=poem.find_all('p')\n",
        "      for po in pom:\n",
        "        ex=po.find_all('span',class_=\"long-line\")\n",
        "        if(ex):\n",
        "          for line in ex:\n",
        "            poem_lines.append(line.text.strip())\n",
        "          poem_lines.append(\"\")\n",
        "          var[\"poem\"] = \"\\n\".join(poem_lines).rstrip('\\n')\n",
        "    import html\n",
        "\n",
        "# After scraping the poem content\n",
        "    var[\"poem\"] = html.unescape(var[\"poem\"])\n",
        "    return var\n",
        "\n",
        "\n",
        "\n",
        "\n",
        "  def scrape_poems(url,list):\n",
        "      response = requests.get(url)\n",
        "      if response.status_code == 200: # means the request for html text was succesful\n",
        "          soup = BeautifulSoup(response.content, 'lxml')\n",
        "          poems = []\n",
        "          rows = soup.find_all('tr') #headers for each poem\n",
        "          if not rows:\n",
        "              print(\"No articles found with the specified class.\")\n",
        "              return -1\n",
        "          for row in rows:\n",
        "              title_cell = row.find('td', class_=\"views-field views-field-title\") # finding headers for title\n",
        "              if title_cell:\n",
        "                #text from the title cell basically includes the title\n",
        "                  poem_url = \"https://poets.org\" + title_cell.a['href']\n",
        "                  var=scrape_poem(poem_url)\n",
        "                  if(var[\"poem\"]): #href was used for storing url of the poem\n",
        "                   list.append(var)\n",
        "\n",
        "              # Uncomment the line below during debugging if needed\n",
        "              # time.sleep(1)\n",
        "      else:\n",
        "          print(f\"Failed to retrieve page: {response.status_code}\")\n",
        "\n",
        "  def clean_dataset(list):\n",
        "    for entry in list:\n",
        "      poem = entry.get(\"poem\", \"\").strip()\n",
        "      # Normalize excessive newlines (keep two for paragraph breaks)\n",
        "      poem = re.sub(r'\\n\\n+', '\\n\\n', poem)  # Replace 3+ newlines with 2\n",
        "\n",
        "    # Replace common special characters\n",
        "      poem = poem.replace('’', \"'\").replace('“', '\"').replace('”', '\"').replace('—', '-')\n",
        "\n",
        "    # Remove unwanted symbols (e.g., emojis, rare characters)\n",
        "      poem = re.sub(r'[^\\w\\s.,!?\\'\\\"-]','',poem)\n",
        "\n",
        "      entry[\"poem\"] = poem\n",
        "    return list\n",
        "\n",
        "\n",
        "  list=[]\n",
        "  for i in range(0,200) : #iterate through 10 webpages (for eg)\n",
        "   scrape_poems(f'https://poets.org/poems?page={i}',list)\n",
        "\n",
        "  list = clean_dataset(list)\n",
        "\n",
        "  with open(\"outfile.json\", \"w\", encoding=\"utf-8\") as f:\n",
        "      json.dump(list, f,ensure_ascii=False, indent=4)\n",
        "  files.download('outfile.json')  # Downloads the JSON file to your system\n",
        "\n"
      ]
    },
    {
      "cell_type": "code",
      "source": [
        "import json\n",
        "import re\n",
        "with open('/content/outfile.json', 'r') as f:\n",
        "  poems = json.load(f)\n",
        "print(len(poems))\n",
        "\n",
        "\n",
        "short_poems = []\n",
        "for entry in poems:\n",
        "  poem = entry.get(\"poem\", \"\").strip()\n",
        "  #print(poem)\n",
        "  if len(poem.split()) < 700:\n",
        "    short_poems.append(entry)\n",
        "    print(poem.split())\n",
        "\n",
        "\n",
        "with open(\"Poems_dataset.json\", \"w\", encoding=\"utf-8\") as f:\n",
        "  json.dump(short_poems, f,ensure_ascii=False, indent=4)\n",
        "  files.download('Poems_dataset.json')\n"
      ],
      "metadata": {
        "colab": {
          "base_uri": "https://localhost:8080/",
          "height": 34
        },
        "id": "KekNIph5Y1l5",
        "outputId": "06183189-9776-4c0d-bfd2-af4811b7ff04"
      },
      "execution_count": null,
      "outputs": [
        {
          "output_type": "stream",
          "name": "stdout",
          "text": [
            "2901\n"
          ]
        },
        {
          "output_type": "display_data",
          "data": {
            "text/plain": [
              "<IPython.core.display.Javascript object>"
            ],
            "application/javascript": [
              "\n",
              "    async function download(id, filename, size) {\n",
              "      if (!google.colab.kernel.accessAllowed) {\n",
              "        return;\n",
              "      }\n",
              "      const div = document.createElement('div');\n",
              "      const label = document.createElement('label');\n",
              "      label.textContent = `Downloading \"${filename}\": `;\n",
              "      div.appendChild(label);\n",
              "      const progress = document.createElement('progress');\n",
              "      progress.max = size;\n",
              "      div.appendChild(progress);\n",
              "      document.body.appendChild(div);\n",
              "\n",
              "      const buffers = [];\n",
              "      let downloaded = 0;\n",
              "\n",
              "      const channel = await google.colab.kernel.comms.open(id);\n",
              "      // Send a message to notify the kernel that we're ready.\n",
              "      channel.send({})\n",
              "\n",
              "      for await (const message of channel.messages) {\n",
              "        // Send a message to notify the kernel that we're ready.\n",
              "        channel.send({})\n",
              "        if (message.buffers) {\n",
              "          for (const buffer of message.buffers) {\n",
              "            buffers.push(buffer);\n",
              "            downloaded += buffer.byteLength;\n",
              "            progress.value = downloaded;\n",
              "          }\n",
              "        }\n",
              "      }\n",
              "      const blob = new Blob(buffers, {type: 'application/binary'});\n",
              "      const a = document.createElement('a');\n",
              "      a.href = window.URL.createObjectURL(blob);\n",
              "      a.download = filename;\n",
              "      div.appendChild(a);\n",
              "      a.click();\n",
              "      div.remove();\n",
              "    }\n",
              "  "
            ]
          },
          "metadata": {}
        },
        {
          "output_type": "display_data",
          "data": {
            "text/plain": [
              "<IPython.core.display.Javascript object>"
            ],
            "application/javascript": [
              "download(\"download_23c05ad9-adf3-47f9-a98c-ec3059925be7\", \"Poems_dataset.json\", 2763025)"
            ]
          },
          "metadata": {}
        }
      ]
    },
    {
      "cell_type": "code",
      "source": [],
      "metadata": {
        "id": "geJs0Nkkr0Tk"
      },
      "execution_count": null,
      "outputs": []
    },
    {
      "cell_type": "code",
      "source": [],
      "metadata": {
        "id": "pFGbs38LZ5zM"
      },
      "execution_count": null,
      "outputs": []
    }
  ]
}